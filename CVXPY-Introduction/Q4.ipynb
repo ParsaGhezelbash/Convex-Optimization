{
 "cells": [
  {
   "cell_type": "code",
   "execution_count": 10,
   "metadata": {},
   "outputs": [],
   "source": [
    "import numpy as np\n",
    "import cvxpy as cp"
   ]
  },
  {
   "cell_type": "code",
   "execution_count": 11,
   "metadata": {},
   "outputs": [
    {
     "data": {
      "text/plain": [
       "['X_train', 'Y_train', 'd_train', 'X_test', 'Y_test', 'd_test']"
      ]
     },
     "execution_count": 11,
     "metadata": {},
     "output_type": "execute_result"
    }
   ],
   "source": [
    "data = np.load('LQM_data.npz')\n",
    "data.files"
   ]
  },
  {
   "cell_type": "code",
   "execution_count": 12,
   "metadata": {},
   "outputs": [],
   "source": [
    "X_train, Y_train, d_train, X_test, Y_test, d_test = data['X_train'].T, data['Y_train'].T, data['d_train'], data['X_test'].T, data['Y_test'].T, data['d_test']"
   ]
  },
  {
   "cell_type": "code",
   "execution_count": null,
   "metadata": {},
   "outputs": [
    {
     "name": "stdout",
     "output_type": "stream",
     "text": [
      "(100, 1)\n"
     ]
    },
    {
     "data": {
      "text/plain": [
       "18.732748966280525"
      ]
     },
     "execution_count": 14,
     "metadata": {},
     "output_type": "execute_result"
    }
   ],
   "source": [
    "n, m = X_train.shape\n",
    "\n",
    "P = cp.Variable((m, m), PSD=True)\n",
    "\n",
    "d = d_train\n",
    "\n",
    "diff = X_train - Y_train\n",
    "\n",
    "dp = []\n",
    "\n",
    "for i in range(n):\n",
    "    quadratic = cp.quad_form(diff[i], P)\n",
    "    dp.append(quadratic)\n",
    "\n",
    "dp = cp.vstack(dp)\n",
    "\n",
    "objective = cp.Minimize(cp.mean(d**2 + dp - 2 * cp.multiply(d, cp.sqrt(dp))))\n",
    "\n",
    "problem = cp.Problem(objective)\n",
    "\n",
    "problem.solve()"
   ]
  },
  {
   "cell_type": "code",
   "execution_count": null,
   "metadata": {},
   "outputs": [],
   "source": []
  }
 ],
 "metadata": {
  "kernelspec": {
   "display_name": "Python 3",
   "language": "python",
   "name": "python3"
  },
  "language_info": {
   "codemirror_mode": {
    "name": "ipython",
    "version": 3
   },
   "file_extension": ".py",
   "mimetype": "text/x-python",
   "name": "python",
   "nbconvert_exporter": "python",
   "pygments_lexer": "ipython3",
   "version": "3.11.9"
  }
 },
 "nbformat": 4,
 "nbformat_minor": 2
}
