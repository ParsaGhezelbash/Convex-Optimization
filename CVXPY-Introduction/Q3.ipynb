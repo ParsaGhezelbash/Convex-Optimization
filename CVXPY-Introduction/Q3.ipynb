{
 "cells": [
  {
   "cell_type": "code",
   "execution_count": null,
   "metadata": {},
   "outputs": [],
   "source": [
    "import numpy as np\n",
    "import cvxpy as cp"
   ]
  },
  {
   "cell_type": "code",
   "execution_count": null,
   "metadata": {},
   "outputs": [],
   "source": [
    "def generate_test(N=1000, S=10, M=100, K=10):\n",
    "    \"\"\"\n",
    "    # Construct the problem\n",
    "    N = 1000 # Population size\n",
    "    S = 10 # Number of infected individuals\n",
    "    M = 100 # Number of tests\n",
    "    K = 10 # Number of splits of each sample\n",
    "    \"\"\"\n",
    "\n",
    "    # Define x0\n",
    "    ind0 = np.random.choice(N,S,0) # index subset \n",
    "    x0 = np.zeros(N) \n",
    "    x0[ind0] = np.random.rand(S)\n",
    "\n",
    "    # Define A\n",
    "    A = np.zeros((M,N))\n",
    "    for i in np.arange(N):\n",
    "        ind = np.random.choice(M,K,replace=False)\n",
    "        A[ind,i] = 1\n",
    "\n",
    "    y = A @ x0\n",
    "\n",
    "    return y, A, x0"
   ]
  },
  {
   "cell_type": "code",
   "execution_count": 2,
   "metadata": {},
   "outputs": [],
   "source": [
    "N=1000\n",
    "S=10\n",
    "M=100\n",
    "K=10"
   ]
  },
  {
   "cell_type": "markdown",
   "metadata": {},
   "source": [
    "## a)"
   ]
  },
  {
   "cell_type": "code",
   "execution_count": 3,
   "metadata": {},
   "outputs": [],
   "source": [
    "def estimate_test(N=1000, S=10, M=100, K=10):\n",
    "    y, A, x0 = generate_test(N=N, S=S, M=M, K=K)\n",
    "\n",
    "    x = cp.Variable(N)\n",
    "\n",
    "    objective = cp.Minimize(cp.norm1(x))\n",
    "\n",
    "    constraints = [\n",
    "        x >= 0,\n",
    "        A @ x == y\n",
    "    ]\n",
    "\n",
    "    problem = cp.Problem(objective, constraints)\n",
    "\n",
    "    problem.solve()\n",
    "\n",
    "    return x.value, x0"
   ]
  },
  {
   "cell_type": "code",
   "execution_count": 4,
   "metadata": {},
   "outputs": [
    {
     "name": "stdout",
     "output_type": "stream",
     "text": [
      "solver result and x0 are the same ||x - x0|| = 1.1272696657227958e-08\n"
     ]
    }
   ],
   "source": [
    "x, x0 = estimate_test()\n",
    "\n",
    "if np.linalg.norm(x - x0) < 1e-6:\n",
    "    print(f'solver result and x0 are the same ||x - x0|| = {np.linalg.norm(x - x0)}')\n",
    "else:\n",
    "    print(f'solver result and x0 are not the same |x - x0|| = {np.linalg.norm(x - x0)}')"
   ]
  },
  {
   "cell_type": "markdown",
   "metadata": {},
   "source": [
    "## b)"
   ]
  },
  {
   "cell_type": "code",
   "execution_count": 5,
   "metadata": {},
   "outputs": [],
   "source": [
    "def find_lowestK(treshold=1e-6):\n",
    "    for k in range(K, 0, -1):\n",
    "        x, x0 = estimate_test(K=k)\n",
    "        if np.linalg.norm(x - x0) > treshold:\n",
    "            return k+1\n",
    "    return None"
   ]
  },
  {
   "cell_type": "code",
   "execution_count": 6,
   "metadata": {},
   "outputs": [
    {
     "name": "stdout",
     "output_type": "stream",
     "text": [
      "lowerst K such that ||x - x0|| < 1e-06 is 3\n"
     ]
    }
   ],
   "source": [
    "treshold=1e-6\n",
    "\n",
    "lowest_k = find_lowestK()\n",
    "\n",
    "print(f'lowerst K such that ||x - x0|| < {treshold} is {lowest_k}')"
   ]
  },
  {
   "cell_type": "markdown",
   "metadata": {},
   "source": [
    "## c)"
   ]
  },
  {
   "cell_type": "code",
   "execution_count": 7,
   "metadata": {},
   "outputs": [],
   "source": [
    "def find_largestS(s=S, k=K, treshold=1e-6, max_iter=1000):\n",
    "    for _ in range(max_iter):\n",
    "        x, x0 = estimate_test(S=s, K=k)\n",
    "        if np.linalg.norm(x - x0) > treshold:\n",
    "            return s-1\n",
    "        s += 1\n",
    "    return None"
   ]
  },
  {
   "cell_type": "code",
   "execution_count": 8,
   "metadata": {},
   "outputs": [
    {
     "name": "stdout",
     "output_type": "stream",
     "text": [
      "largest S such that ||x - x0|| < 1e-06 is 25\n"
     ]
    }
   ],
   "source": [
    "largest_s = find_largestS()\n",
    "\n",
    "print(f'largest S such that ||x - x0|| < {treshold} is {largest_s}')"
   ]
  },
  {
   "cell_type": "code",
   "execution_count": 9,
   "metadata": {},
   "outputs": [],
   "source": [
    "def find_bestK(K_list):\n",
    "    errors = []\n",
    "    for k in K_list:\n",
    "        best_S = find_largestS(k=k)\n",
    "        x, x0 = estimate_test(S=best_S, K=k)\n",
    "        errors.append(np.linalg.norm(x - x0))\n",
    "\n",
    "    best_k_index = np.argmin(errors)\n",
    "\n",
    "    return K_list[best_k_index], errors[best_k_index]"
   ]
  },
  {
   "cell_type": "code",
   "execution_count": null,
   "metadata": {},
   "outputs": [
    {
     "name": "stderr",
     "output_type": "stream",
     "text": [
      "/Library/Frameworks/Python.framework/Versions/3.11/lib/python3.11/site-packages/cvxpy/problems/problem.py:1481: UserWarning: Solution may be inaccurate. Try another solver, adjusting the solver settings, or solve with verbose=True for more information.\n",
      "  warnings.warn(\n"
     ]
    },
    {
     "name": "stdout",
     "output_type": "stream",
     "text": [
      "best K is 24 with ||x - x0||=0.0\n"
     ]
    }
   ],
   "source": [
    "K_list = [i for i in range(10, 50)]\n",
    "\n",
    "best_k, best_k_error = find_bestK(K_list)\n",
    "\n",
    "print(f'best K is {best_k} with ||x - x0||={np.round(best_k_error, 4)}')"
   ]
  }
 ],
 "metadata": {
  "kernelspec": {
   "display_name": "Python 3",
   "language": "python",
   "name": "python3"
  },
  "language_info": {
   "codemirror_mode": {
    "name": "ipython",
    "version": 3
   },
   "file_extension": ".py",
   "mimetype": "text/x-python",
   "name": "python",
   "nbconvert_exporter": "python",
   "pygments_lexer": "ipython3",
   "version": "3.11.9"
  }
 },
 "nbformat": 4,
 "nbformat_minor": 2
}
