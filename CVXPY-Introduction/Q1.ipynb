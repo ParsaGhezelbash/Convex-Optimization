{
 "cells": [
  {
   "cell_type": "markdown",
   "metadata": {},
   "source": [
    "a) norm2(x, y, z) <= 1"
   ]
  },
  {
   "cell_type": "markdown",
   "metadata": {},
   "source": [
    "b)\n",
    "pow(x, 2) + 1 <= 3 * x + y"
   ]
  },
  {
   "cell_type": "markdown",
   "metadata": {},
   "source": [
    "c) inv_pos(x) + 2 * inv_pos(y) <= 5"
   ]
  },
  {
   "cell_type": "markdown",
   "metadata": {},
   "source": [
    "d) y >= inv_pos(x + z)"
   ]
  },
  {
   "cell_type": "markdown",
   "metadata": {},
   "source": [
    "e) sqrt(y) >= inv_pos(x)"
   ]
  },
  {
   "cell_type": "markdown",
   "metadata": {},
   "source": [
    "f) exp(exp(x) + y - 1) + exp(exp(x) + x / 2) <= 1"
   ]
  },
  {
   "cell_type": "markdown",
   "metadata": {},
   "source": [
    "g) quad_over_lin(y, x) + z <= 1"
   ]
  },
  {
   "cell_type": "markdown",
   "metadata": {},
   "source": [
    "h) \n",
    "\n",
    "$\n",
    "xlog(\\frac{x}{y}) \\leq x-y \\quad x, y > 0 \\\\\n",
    "\\Rightarrow x e^x \\\n",
    "$\n"
   ]
  },
  {
   "cell_type": "markdown",
   "metadata": {},
   "source": [
    "Markdown doesn't support underline, but we can use <u>HTML Text</u> instead. Also, <b>we</b> can <i>render</i> almost any <span style=\"color:red;\">HTML</span> code that we &nbsp; <kbd>like</kbd> &nbsp; such as superscript<sup>2</sup>."
   ]
  },
  {
   "cell_type": "markdown",
   "metadata": {},
   "source": [
    "# Markdown\n",
    "The following provides a quick reference to the most commonly used Markdown syntax.\n",
    "\n",
    "## Headers\n",
    "### H3\n",
    "#### H4\n",
    "##### H5\n",
    "###### H6"
   ]
  },
  {
   "cell_type": "markdown",
   "metadata": {},
   "source": [
    "$$\n",
    "f(x)=\n",
    "\\begin{cases}\n",
    "1/d_{ij} & \\quad \\text{when $d_{ij} \\leq 160$}\\\\ \n",
    "0 & \\quad \\text{otherwise}\n",
    "\\end{cases}\n",
    "$$"
   ]
  },
  {
   "cell_type": "markdown",
   "metadata": {},
   "source": [
    "$$ \n",
    "M =\n",
    "\\begin{pmatrix}\n",
    "1 & 0 \\\\\n",
    "0 & 1\n",
    "\\end{pmatrix}\n",
    "\\begin{pmatrix}\n",
    "1 & 0 \\\\\n",
    "0 & 1\n",
    "\\end{pmatrix}\n",
    "$$"
   ]
  },
  {
   "cell_type": "markdown",
   "metadata": {},
   "source": [
    "$$\n",
    "A_{m,n} = \n",
    "\\begin{pmatrix}\n",
    "a_{1,1} & a_{1,2} & \\cdots & a_{1,n} \\\\\n",
    "a_{2,1} & a_{2,2} & \\cdots & a_{2,n} \\\\\n",
    "\\vdots & \\vdots & \\ddots & \\vdots \\\\\n",
    "a_{m,1} & a_{m,2} & \\cdots & a_{m,n} \n",
    "\\end{pmatrix}\n",
    "$$"
   ]
  },
  {
   "cell_type": "markdown",
   "metadata": {},
   "source": [
    "$\n",
    "Bias(\\hat{\\theta}) = E(\\hat{\\theta}) - \\theta\n",
    "$"
   ]
  },
  {
   "cell_type": "markdown",
   "metadata": {},
   "source": [
    "$\\begin{aligned}\n",
    "Bias(\\hat{\\theta}) &= E(\\hat{\\theta}) - \\theta \\\\\n",
    "&= E(2 \\bar{X} -1) - \\theta \\\\\n",
    "&= \\frac{2}{n}\\sum_{i=1}^n E(X_i) -1 -\\theta \\\\\n",
    "&= 2E(X) - 1 - \\theta \\\\\n",
    "&= 2 \\cdot \\frac{\\theta+1}{2} - 1 - \\theta \\\\\n",
    "&= 0 \\\\\n",
    "\\end{aligned}$"
   ]
  },
  {
   "cell_type": "markdown",
   "metadata": {},
   "source": [
    "~~Scratched Text~~"
   ]
  },
  {
   "cell_type": "markdown",
   "metadata": {},
   "source": [
    "superscript^2^"
   ]
  },
  {
   "cell_type": "markdown",
   "metadata": {},
   "source": [
    "1st Header|2nd Header|3rd Header\n",
    "---|:---:|---: \n",
    "col 1 is|left-aligned|1\n",
    "col 2 is|center-aligned|2\n",
    "col 3 is|right-aligned|3"
   ]
  },
  {
   "cell_type": "markdown",
   "metadata": {},
   "source": [
    "```r\n",
    "norm <- function(x) {\n",
    "  sqrt(x%*%x)\n",
    "}\n",
    "norm(1:4)\n",
    "```"
   ]
  },
  {
   "cell_type": "markdown",
   "metadata": {},
   "source": [
    "---\n",
    "title: \"Page Title\"\n",
    "subtitle: \"Page sub-title\"\n",
    "author: \"Author name\"\n",
    "description: \"This is a test\"\n",
    "institute: \"MU\"\n",
    "date: \"20/02/2020\"\n",
    "abstract: \"YAML\"\n",
    "keywords: \n",
    "  - key1\n",
    "  - key2\n",
    "tags:\n",
    "  - tag1\n",
    "  - tag2\n",
    "---"
   ]
  },
  {
   "cell_type": "markdown",
   "metadata": {},
   "source": [
    "$$\\forall \\; x \\in X \\quad \\exists \\; y \\leq \\epsilon$$"
   ]
  },
  {
   "cell_type": "markdown",
   "metadata": {},
   "source": [
    "$$\\color{blue}{X \\sim Normal \\; (\\mu,\\sigma^2)}$$"
   ]
  }
 ],
 "metadata": {
  "language_info": {
   "name": "python"
  }
 },
 "nbformat": 4,
 "nbformat_minor": 2
}
