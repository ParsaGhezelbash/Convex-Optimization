{
 "cells": [
  {
   "cell_type": "code",
   "execution_count": 51,
   "metadata": {},
   "outputs": [
    {
     "data": {
      "text/plain": [
       "True"
      ]
     },
     "execution_count": 51,
     "metadata": {},
     "output_type": "execute_result"
    }
   ],
   "source": [
    "import cvxpy as cp\n",
    "import numpy as np\n",
    "\n",
    "k = 201\n",
    "t = np.linspace(-3, 3, k)\n",
    "y = np.exp(t)\n",
    "\n",
    "a0 = cp.Variable()\n",
    "a1 = cp.Variable()\n",
    "a2 = cp.Variable()\n",
    "b1 = cp.Variable()\n",
    "b2 = cp.Variable()\n",
    "\n",
    "m = cp.Variable()\n",
    "\n",
    "f = (a0 + a1 * t + a2 * t**2)\n",
    "\n",
    "c = 1 + b1 * t + b2 * t**2\n",
    "\n",
    "y_ = cp.multiply(y, c)\n",
    "\n",
    "m_ = cp.multiply(m, c)\n",
    "\n",
    "objective = cp.Minimize(m)\n",
    "\n",
    "constraints = [\n",
    "    c >= 0,\n",
    "    f - y_ <= m\n",
    "]\n",
    "\n",
    "problem = cp.Problem(objective, constraints)\n",
    "\n",
    "problem.is_dcp()\n",
    "\n",
    "# problem.solve()"
   ]
  }
 ],
 "metadata": {
  "kernelspec": {
   "display_name": "Python 3",
   "language": "python",
   "name": "python3"
  },
  "language_info": {
   "codemirror_mode": {
    "name": "ipython",
    "version": 3
   },
   "file_extension": ".py",
   "mimetype": "text/x-python",
   "name": "python",
   "nbconvert_exporter": "python",
   "pygments_lexer": "ipython3",
   "version": "3.11.9"
  }
 },
 "nbformat": 4,
 "nbformat_minor": 2
}
