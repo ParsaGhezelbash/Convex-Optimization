{
 "cells": [
  {
   "cell_type": "code",
   "execution_count": 2,
   "metadata": {},
   "outputs": [],
   "source": [
    "import pygsp.graphs\n",
    "import pygsp.graphs.graph\n",
    "import time\n",
    "import networkx as nx\n",
    "import pygsp\n",
    "import numpy as np\n",
    "import scipy.sparse as scp\n",
    "import matplotlib.pyplot as plt\n",
    "import logging"
   ]
  },
  {
   "cell_type": "code",
   "execution_count": 3,
   "metadata": {},
   "outputs": [],
   "source": [
    "def generate_data(n_samples=100, n_features=500, n_effective_features=10, noise=0.1):\n",
    "\n",
    "    np.random.seed(3)\n",
    "    \n",
    "    X = np.random.randn(n_samples, n_features)\n",
    "    \n",
    "    beta_true = np.zeros(n_features)\n",
    "    effective_indices = np.random.choice(n_features, n_effective_features, replace=False)\n",
    "    beta_true[effective_indices] = np.random.randn(n_effective_features)\n",
    "    \n",
    "    y = X.dot(beta_true) + noise * np.random.randn(n_samples)\n",
    "    \n",
    "    return X, y, beta_true"
   ]
  },
  {
   "cell_type": "markdown",
   "metadata": {},
   "source": [
    "## Helper functions for part 3"
   ]
  },
  {
   "cell_type": "code",
   "execution_count": 4,
   "metadata": {},
   "outputs": [],
   "source": [
    "'''Helper functions for graph creation.\n",
    "Note: You do not need to use both graph types for the analysis.'''\n",
    "\n",
    "\n",
    "def Sensor(N):\n",
    "    logging.disable(logging.CRITICAL)\n",
    "    G=pygsp.graphs.Sensor(N)\n",
    "    logging.disable(logging.NOTSET)\n",
    "    return G\n",
    "\n",
    "def Erdos(N):\n",
    "    logging.disable(logging.CRITICAL)\n",
    "    G=pygsp.graphs.ErdosRenyi(N,p=3/N)\n",
    "    logging.disable(logging.NOTSET)\n",
    "    return G"
   ]
  },
  {
   "cell_type": "code",
   "execution_count": 5,
   "metadata": {},
   "outputs": [
    {
     "name": "stderr",
     "output_type": "stream",
     "text": [
      "<>:1: SyntaxWarning: invalid escape sequence '\\s'\n",
      "<>:1: SyntaxWarning: invalid escape sequence '\\s'\n",
      "C:\\Users\\Password Please\\AppData\\Local\\Temp\\ipykernel_10268\\30316221.py:1: SyntaxWarning: invalid escape sequence '\\s'\n",
      "  '''Graph frequency filters for creating a single random smooth signal. You can change the functions, but the filter type ( 1\\sqrt(lambda), lambda!=0 )\n"
     ]
    }
   ],
   "source": [
    "'''Graph frequency filters for creating a single random smooth signal. You can change the functions, but the filter type ( 1\\sqrt(lambda), lambda!=0 )\n",
    "must remain the same.'''\n",
    "\n",
    "def general_filter(graph, filter):\n",
    "    '''Return unnormalized signal for given graph'''\n",
    "    '''Uses normalized lambdas (/lambda max)'''\n",
    "    U_selected=graph.U[:,1:]\n",
    "    arr = np.random.normal(0, 1, size=(graph.N-1,))*filter(graph.e[1:]/np.max(graph.e))\n",
    "    xi=U_selected@arr\n",
    "    return xi\n",
    "\n",
    "def Lin_Gaussian(lambdas):\n",
    "    return np.reciprocal(np.sqrt(lambdas), out=np.zeros_like(lambdas), where=lambdas!=0)"
   ]
  }
 ],
 "metadata": {
  "kernelspec": {
   "display_name": "Python 3",
   "language": "python",
   "name": "python3"
  },
  "language_info": {
   "codemirror_mode": {
    "name": "ipython",
    "version": 3
   },
   "file_extension": ".py",
   "mimetype": "text/x-python",
   "name": "python",
   "nbconvert_exporter": "python",
   "pygments_lexer": "ipython3",
   "version": "3.12.0"
  }
 },
 "nbformat": 4,
 "nbformat_minor": 2
}
